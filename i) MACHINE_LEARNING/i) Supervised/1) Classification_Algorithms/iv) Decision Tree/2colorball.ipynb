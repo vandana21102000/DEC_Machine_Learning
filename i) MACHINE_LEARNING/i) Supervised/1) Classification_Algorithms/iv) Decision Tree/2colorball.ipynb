{
 "cells": [
  {
   "cell_type": "code",
   "execution_count": 1,
   "id": "bf7c345c",
   "metadata": {},
   "outputs": [
    {
     "data": {
      "text/html": [
       "<div>\n",
       "<style scoped>\n",
       "    .dataframe tbody tr th:only-of-type {\n",
       "        vertical-align: middle;\n",
       "    }\n",
       "\n",
       "    .dataframe tbody tr th {\n",
       "        vertical-align: top;\n",
       "    }\n",
       "\n",
       "    .dataframe thead th {\n",
       "        text-align: right;\n",
       "    }\n",
       "</style>\n",
       "<table border=\"1\" class=\"dataframe\">\n",
       "  <thead>\n",
       "    <tr style=\"text-align: right;\">\n",
       "      <th></th>\n",
       "      <th>Room</th>\n",
       "      <th>Partitions</th>\n",
       "      <th>Rows</th>\n",
       "      <th>Columns</th>\n",
       "      <th>Color</th>\n",
       "    </tr>\n",
       "  </thead>\n",
       "  <tbody>\n",
       "    <tr>\n",
       "      <th>0</th>\n",
       "      <td>2</td>\n",
       "      <td>2</td>\n",
       "      <td>2</td>\n",
       "      <td>1</td>\n",
       "      <td>Red</td>\n",
       "    </tr>\n",
       "    <tr>\n",
       "      <th>1</th>\n",
       "      <td>3</td>\n",
       "      <td>1</td>\n",
       "      <td>2</td>\n",
       "      <td>1</td>\n",
       "      <td>Red</td>\n",
       "    </tr>\n",
       "    <tr>\n",
       "      <th>2</th>\n",
       "      <td>3</td>\n",
       "      <td>2</td>\n",
       "      <td>1</td>\n",
       "      <td>2</td>\n",
       "      <td>Red</td>\n",
       "    </tr>\n",
       "    <tr>\n",
       "      <th>3</th>\n",
       "      <td>2</td>\n",
       "      <td>3</td>\n",
       "      <td>1</td>\n",
       "      <td>2</td>\n",
       "      <td>Blue</td>\n",
       "    </tr>\n",
       "    <tr>\n",
       "      <th>4</th>\n",
       "      <td>4</td>\n",
       "      <td>2</td>\n",
       "      <td>1</td>\n",
       "      <td>2</td>\n",
       "      <td>Yellow</td>\n",
       "    </tr>\n",
       "    <tr>\n",
       "      <th>...</th>\n",
       "      <td>...</td>\n",
       "      <td>...</td>\n",
       "      <td>...</td>\n",
       "      <td>...</td>\n",
       "      <td>...</td>\n",
       "    </tr>\n",
       "    <tr>\n",
       "      <th>395</th>\n",
       "      <td>1</td>\n",
       "      <td>3</td>\n",
       "      <td>2</td>\n",
       "      <td>1</td>\n",
       "      <td>Green</td>\n",
       "    </tr>\n",
       "    <tr>\n",
       "      <th>396</th>\n",
       "      <td>1</td>\n",
       "      <td>2</td>\n",
       "      <td>1</td>\n",
       "      <td>2</td>\n",
       "      <td>Yellow</td>\n",
       "    </tr>\n",
       "    <tr>\n",
       "      <th>397</th>\n",
       "      <td>2</td>\n",
       "      <td>3</td>\n",
       "      <td>2</td>\n",
       "      <td>2</td>\n",
       "      <td>Blue</td>\n",
       "    </tr>\n",
       "    <tr>\n",
       "      <th>398</th>\n",
       "      <td>2</td>\n",
       "      <td>1</td>\n",
       "      <td>1</td>\n",
       "      <td>2</td>\n",
       "      <td>Green</td>\n",
       "    </tr>\n",
       "    <tr>\n",
       "      <th>399</th>\n",
       "      <td>4</td>\n",
       "      <td>2</td>\n",
       "      <td>1</td>\n",
       "      <td>2</td>\n",
       "      <td>Yellow</td>\n",
       "    </tr>\n",
       "  </tbody>\n",
       "</table>\n",
       "<p>400 rows × 5 columns</p>\n",
       "</div>"
      ],
      "text/plain": [
       "     Room  Partitions  Rows  Columns   Color\n",
       "0       2           2     2        1     Red\n",
       "1       3           1     2        1     Red\n",
       "2       3           2     1        2     Red\n",
       "3       2           3     1        2    Blue\n",
       "4       4           2     1        2  Yellow\n",
       "..    ...         ...   ...      ...     ...\n",
       "395     1           3     2        1   Green\n",
       "396     1           2     1        2  Yellow\n",
       "397     2           3     2        2    Blue\n",
       "398     2           1     1        2   Green\n",
       "399     4           2     1        2  Yellow\n",
       "\n",
       "[400 rows x 5 columns]"
      ]
     },
     "execution_count": 1,
     "metadata": {},
     "output_type": "execute_result"
    }
   ],
   "source": [
    "import numpy as np\n",
    "import pandas as pd\n",
    "import seaborn as sns\n",
    "import matplotlib.pyplot as plt\n",
    "from sklearn import tree\n",
    "df=pd.read_csv('Color Balls_Train.csv')\n",
    "df"
   ]
  },
  {
   "cell_type": "code",
   "execution_count": 2,
   "id": "9ee45309",
   "metadata": {},
   "outputs": [
    {
     "data": {
      "text/html": [
       "<div>\n",
       "<style scoped>\n",
       "    .dataframe tbody tr th:only-of-type {\n",
       "        vertical-align: middle;\n",
       "    }\n",
       "\n",
       "    .dataframe tbody tr th {\n",
       "        vertical-align: top;\n",
       "    }\n",
       "\n",
       "    .dataframe thead th {\n",
       "        text-align: right;\n",
       "    }\n",
       "</style>\n",
       "<table border=\"1\" class=\"dataframe\">\n",
       "  <thead>\n",
       "    <tr style=\"text-align: right;\">\n",
       "      <th></th>\n",
       "      <th>Room</th>\n",
       "      <th>Partitions</th>\n",
       "      <th>Rows</th>\n",
       "      <th>Columns</th>\n",
       "      <th>Color</th>\n",
       "    </tr>\n",
       "  </thead>\n",
       "  <tbody>\n",
       "    <tr>\n",
       "      <th>0</th>\n",
       "      <td>2</td>\n",
       "      <td>2</td>\n",
       "      <td>2</td>\n",
       "      <td>1</td>\n",
       "      <td>Red</td>\n",
       "    </tr>\n",
       "    <tr>\n",
       "      <th>1</th>\n",
       "      <td>3</td>\n",
       "      <td>1</td>\n",
       "      <td>2</td>\n",
       "      <td>1</td>\n",
       "      <td>Red</td>\n",
       "    </tr>\n",
       "    <tr>\n",
       "      <th>2</th>\n",
       "      <td>3</td>\n",
       "      <td>2</td>\n",
       "      <td>1</td>\n",
       "      <td>2</td>\n",
       "      <td>Red</td>\n",
       "    </tr>\n",
       "    <tr>\n",
       "      <th>3</th>\n",
       "      <td>2</td>\n",
       "      <td>3</td>\n",
       "      <td>1</td>\n",
       "      <td>2</td>\n",
       "      <td>Blue</td>\n",
       "    </tr>\n",
       "    <tr>\n",
       "      <th>4</th>\n",
       "      <td>4</td>\n",
       "      <td>2</td>\n",
       "      <td>1</td>\n",
       "      <td>2</td>\n",
       "      <td>Yellow</td>\n",
       "    </tr>\n",
       "  </tbody>\n",
       "</table>\n",
       "</div>"
      ],
      "text/plain": [
       "   Room  Partitions  Rows  Columns   Color\n",
       "0     2           2     2        1     Red\n",
       "1     3           1     2        1     Red\n",
       "2     3           2     1        2     Red\n",
       "3     2           3     1        2    Blue\n",
       "4     4           2     1        2  Yellow"
      ]
     },
     "execution_count": 2,
     "metadata": {},
     "output_type": "execute_result"
    }
   ],
   "source": [
    "df.head()"
   ]
  },
  {
   "cell_type": "code",
   "execution_count": 3,
   "id": "c838cb29",
   "metadata": {},
   "outputs": [
    {
     "data": {
      "text/html": [
       "<div>\n",
       "<style scoped>\n",
       "    .dataframe tbody tr th:only-of-type {\n",
       "        vertical-align: middle;\n",
       "    }\n",
       "\n",
       "    .dataframe tbody tr th {\n",
       "        vertical-align: top;\n",
       "    }\n",
       "\n",
       "    .dataframe thead th {\n",
       "        text-align: right;\n",
       "    }\n",
       "</style>\n",
       "<table border=\"1\" class=\"dataframe\">\n",
       "  <thead>\n",
       "    <tr style=\"text-align: right;\">\n",
       "      <th></th>\n",
       "      <th>Room</th>\n",
       "      <th>Partitions</th>\n",
       "      <th>Rows</th>\n",
       "      <th>Columns</th>\n",
       "      <th>Color</th>\n",
       "    </tr>\n",
       "  </thead>\n",
       "  <tbody>\n",
       "    <tr>\n",
       "      <th>395</th>\n",
       "      <td>1</td>\n",
       "      <td>3</td>\n",
       "      <td>2</td>\n",
       "      <td>1</td>\n",
       "      <td>Green</td>\n",
       "    </tr>\n",
       "    <tr>\n",
       "      <th>396</th>\n",
       "      <td>1</td>\n",
       "      <td>2</td>\n",
       "      <td>1</td>\n",
       "      <td>2</td>\n",
       "      <td>Yellow</td>\n",
       "    </tr>\n",
       "    <tr>\n",
       "      <th>397</th>\n",
       "      <td>2</td>\n",
       "      <td>3</td>\n",
       "      <td>2</td>\n",
       "      <td>2</td>\n",
       "      <td>Blue</td>\n",
       "    </tr>\n",
       "    <tr>\n",
       "      <th>398</th>\n",
       "      <td>2</td>\n",
       "      <td>1</td>\n",
       "      <td>1</td>\n",
       "      <td>2</td>\n",
       "      <td>Green</td>\n",
       "    </tr>\n",
       "    <tr>\n",
       "      <th>399</th>\n",
       "      <td>4</td>\n",
       "      <td>2</td>\n",
       "      <td>1</td>\n",
       "      <td>2</td>\n",
       "      <td>Yellow</td>\n",
       "    </tr>\n",
       "  </tbody>\n",
       "</table>\n",
       "</div>"
      ],
      "text/plain": [
       "     Room  Partitions  Rows  Columns   Color\n",
       "395     1           3     2        1   Green\n",
       "396     1           2     1        2  Yellow\n",
       "397     2           3     2        2    Blue\n",
       "398     2           1     1        2   Green\n",
       "399     4           2     1        2  Yellow"
      ]
     },
     "execution_count": 3,
     "metadata": {},
     "output_type": "execute_result"
    }
   ],
   "source": [
    "df.tail()"
   ]
  },
  {
   "cell_type": "code",
   "execution_count": 4,
   "id": "78851864",
   "metadata": {},
   "outputs": [
    {
     "data": {
      "text/plain": [
       "Room           int64\n",
       "Partitions     int64\n",
       "Rows           int64\n",
       "Columns        int64\n",
       "Color         object\n",
       "dtype: object"
      ]
     },
     "execution_count": 4,
     "metadata": {},
     "output_type": "execute_result"
    }
   ],
   "source": [
    "df.dtypes"
   ]
  },
  {
   "cell_type": "code",
   "execution_count": 5,
   "id": "bdf14386",
   "metadata": {},
   "outputs": [
    {
     "data": {
      "text/plain": [
       "Index(['Room', 'Partitions', 'Rows', 'Columns', 'Color'], dtype='object')"
      ]
     },
     "execution_count": 5,
     "metadata": {},
     "output_type": "execute_result"
    }
   ],
   "source": [
    "df.columns"
   ]
  },
  {
   "cell_type": "code",
   "execution_count": 6,
   "id": "34e126b7",
   "metadata": {},
   "outputs": [
    {
     "data": {
      "text/plain": [
       "Room          0\n",
       "Partitions    0\n",
       "Rows          0\n",
       "Columns       0\n",
       "Color         0\n",
       "dtype: int64"
      ]
     },
     "execution_count": 6,
     "metadata": {},
     "output_type": "execute_result"
    }
   ],
   "source": [
    "df.isna().sum()"
   ]
  },
  {
   "cell_type": "code",
   "execution_count": 7,
   "id": "fdf7fa03",
   "metadata": {},
   "outputs": [
    {
     "data": {
      "text/plain": [
       "Color\n",
       "Red       162\n",
       "Blue       93\n",
       "Yellow     82\n",
       "Green      63\n",
       "Name: count, dtype: int64"
      ]
     },
     "execution_count": 7,
     "metadata": {},
     "output_type": "execute_result"
    }
   ],
   "source": [
    "df['Color'].value_counts()"
   ]
  },
  {
   "cell_type": "code",
   "execution_count": 8,
   "id": "bac522c4",
   "metadata": {},
   "outputs": [
    {
     "data": {
      "text/plain": [
       "<Axes: xlabel='Color', ylabel='count'>"
      ]
     },
     "execution_count": 8,
     "metadata": {},
     "output_type": "execute_result"
    },
    {
     "data": {
      "image/png": "[encoded data removed]",
      "text/plain": [
       "<Figure size 640x480 with 1 Axes>"
      ]
     },
     "metadata": {},
     "output_type": "display_data"
    }
   ],
   "source": [
    "sns.countplot(x='Color',data=df)"
   ]
  },
  {
   "cell_type": "code",
   "execution_count": 9,
   "id": "06e0648c",
   "metadata": {},
   "outputs": [
    {
     "data": {
      "text/html": [
       "<div>\n",
       "<style scoped>\n",
       "    .dataframe tbody tr th:only-of-type {\n",
       "        vertical-align: middle;\n",
       "    }\n",
       "\n",
       "    .dataframe tbody tr th {\n",
       "        vertical-align: top;\n",
       "    }\n",
       "\n",
       "    .dataframe thead th {\n",
       "        text-align: right;\n",
       "    }\n",
       "</style>\n",
       "<table border=\"1\" class=\"dataframe\">\n",
       "  <thead>\n",
       "    <tr style=\"text-align: right;\">\n",
       "      <th></th>\n",
       "      <th>Room</th>\n",
       "      <th>Partitions</th>\n",
       "      <th>Rows</th>\n",
       "      <th>Columns</th>\n",
       "    </tr>\n",
       "  </thead>\n",
       "  <tbody>\n",
       "    <tr>\n",
       "      <th>0</th>\n",
       "      <td>4</td>\n",
       "      <td>2</td>\n",
       "      <td>1</td>\n",
       "      <td>1</td>\n",
       "    </tr>\n",
       "    <tr>\n",
       "      <th>1</th>\n",
       "      <td>3</td>\n",
       "      <td>2</td>\n",
       "      <td>1</td>\n",
       "      <td>1</td>\n",
       "    </tr>\n",
       "    <tr>\n",
       "      <th>2</th>\n",
       "      <td>2</td>\n",
       "      <td>2</td>\n",
       "      <td>1</td>\n",
       "      <td>1</td>\n",
       "    </tr>\n",
       "    <tr>\n",
       "      <th>3</th>\n",
       "      <td>2</td>\n",
       "      <td>2</td>\n",
       "      <td>2</td>\n",
       "      <td>2</td>\n",
       "    </tr>\n",
       "    <tr>\n",
       "      <th>4</th>\n",
       "      <td>1</td>\n",
       "      <td>2</td>\n",
       "      <td>2</td>\n",
       "      <td>2</td>\n",
       "    </tr>\n",
       "    <tr>\n",
       "      <th>...</th>\n",
       "      <td>...</td>\n",
       "      <td>...</td>\n",
       "      <td>...</td>\n",
       "      <td>...</td>\n",
       "    </tr>\n",
       "    <tr>\n",
       "      <th>95</th>\n",
       "      <td>2</td>\n",
       "      <td>2</td>\n",
       "      <td>2</td>\n",
       "      <td>1</td>\n",
       "    </tr>\n",
       "    <tr>\n",
       "      <th>96</th>\n",
       "      <td>2</td>\n",
       "      <td>2</td>\n",
       "      <td>2</td>\n",
       "      <td>2</td>\n",
       "    </tr>\n",
       "    <tr>\n",
       "      <th>97</th>\n",
       "      <td>3</td>\n",
       "      <td>2</td>\n",
       "      <td>1</td>\n",
       "      <td>1</td>\n",
       "    </tr>\n",
       "    <tr>\n",
       "      <th>98</th>\n",
       "      <td>1</td>\n",
       "      <td>2</td>\n",
       "      <td>2</td>\n",
       "      <td>1</td>\n",
       "    </tr>\n",
       "    <tr>\n",
       "      <th>99</th>\n",
       "      <td>1</td>\n",
       "      <td>2</td>\n",
       "      <td>2</td>\n",
       "      <td>2</td>\n",
       "    </tr>\n",
       "  </tbody>\n",
       "</table>\n",
       "<p>100 rows × 4 columns</p>\n",
       "</div>"
      ],
      "text/plain": [
       "    Room  Partitions  Rows  Columns\n",
       "0      4           2     1        1\n",
       "1      3           2     1        1\n",
       "2      2           2     1        1\n",
       "3      2           2     2        2\n",
       "4      1           2     2        2\n",
       "..   ...         ...   ...      ...\n",
       "95     2           2     2        1\n",
       "96     2           2     2        2\n",
       "97     3           2     1        1\n",
       "98     1           2     2        1\n",
       "99     1           2     2        2\n",
       "\n",
       "[100 rows x 4 columns]"
      ]
     },
     "execution_count": 9,
     "metadata": {},
     "output_type": "execute_result"
    }
   ],
   "source": [
    "df_1=pd.read_csv('Color Balls_Test.csv')\n",
    "df_1"
   ]
  },
  {
   "cell_type": "code",
   "execution_count": 10,
   "id": "3cccdfda",
   "metadata": {},
   "outputs": [
    {
     "data": {
      "text/plain": [
       "Room          0\n",
       "Partitions    0\n",
       "Rows          0\n",
       "Columns       0\n",
       "Color         0\n",
       "dtype: int64"
      ]
     },
     "execution_count": 10,
     "metadata": {},
     "output_type": "execute_result"
    }
   ],
   "source": [
    "df.isna().sum()"
   ]
  },
  {
   "cell_type": "code",
   "execution_count": 11,
   "id": "9f684290",
   "metadata": {},
   "outputs": [
    {
     "data": {
      "text/plain": [
       "Room           int64\n",
       "Partitions     int64\n",
       "Rows           int64\n",
       "Columns        int64\n",
       "Color         object\n",
       "dtype: object"
      ]
     },
     "execution_count": 11,
     "metadata": {},
     "output_type": "execute_result"
    }
   ],
   "source": [
    "df.dtypes"
   ]
  },
  {
   "cell_type": "code",
   "execution_count": 12,
   "id": "f3dba8c4",
   "metadata": {},
   "outputs": [
    {
     "data": {
      "text/plain": [
       "Index(['Room', 'Partitions', 'Rows', 'Columns', 'Color'], dtype='object')"
      ]
     },
     "execution_count": 12,
     "metadata": {},
     "output_type": "execute_result"
    }
   ],
   "source": [
    "df.columns"
   ]
  },
  {
   "cell_type": "code",
   "execution_count": 13,
   "id": "8b1c2b98",
   "metadata": {},
   "outputs": [
    {
     "data": {
      "text/plain": [
       "array([[2, 2, 2, 1],\n",
       "       [3, 1, 2, 1],\n",
       "       [3, 2, 1, 2],\n",
       "       ...,\n",
       "       [2, 3, 2, 2],\n",
       "       [2, 1, 1, 2],\n",
       "       [4, 2, 1, 2]], shape=(400, 4))"
      ]
     },
     "execution_count": 13,
     "metadata": {},
     "output_type": "execute_result"
    }
   ],
   "source": [
    "x_train=df.drop(['Color'],axis=1)\n",
    "x_train.values#"
   ]
  },
  {
   "cell_type": "code",
   "execution_count": 14,
   "id": "6bff7b4d",
   "metadata": {},
   "outputs": [
    {
     "data": {
      "text/plain": [
       "array(['Red', 'Red', 'Red', 'Blue', 'Yellow', 'Blue', 'Red', 'Yellow',\n",
       "       'Blue', 'Blue', 'Green', 'Green', 'Red', 'Red', 'Red', 'Green',\n",
       "       'Yellow', 'Red', 'Red', 'Yellow', 'Red', 'Yellow', 'Red', 'Blue',\n",
       "       'Red', 'Red', 'Red', 'Red', 'Red', 'Green', 'Blue', 'Red',\n",
       "       'Yellow', 'Yellow', 'Yellow', 'Green', 'Yellow', 'Green', 'Red',\n",
       "       'Green', 'Green', 'Red', 'Red', 'Green', 'Yellow', 'Yellow',\n",
       "       'Yellow', 'Blue', 'Yellow', 'Red', 'Red', 'Yellow', 'Blue',\n",
       "       'Yellow', 'Yellow', 'Blue', 'Red', 'Blue', 'Green', 'Blue',\n",
       "       'Yellow', 'Green', 'Green', 'Red', 'Red', 'Blue', 'Red', 'Blue',\n",
       "       'Yellow', 'Red', 'Blue', 'Red', 'Green', 'Yellow', 'Yellow',\n",
       "       'Yellow', 'Red', 'Blue', 'Red', 'Blue', 'Green', 'Blue', 'Blue',\n",
       "       'Yellow', 'Red', 'Green', 'Red', 'Yellow', 'Blue', 'Red', 'Yellow',\n",
       "       'Green', 'Red', 'Green', 'Yellow', 'Blue', 'Blue', 'Yellow', 'Red',\n",
       "       'Red', 'Red', 'Red', 'Red', 'Blue', 'Red', 'Red', 'Red', 'Green',\n",
       "       'Green', 'Yellow', 'Yellow', 'Red', 'Red', 'Green', 'Red', 'Blue',\n",
       "       'Yellow', 'Red', 'Red', 'Blue', 'Green', 'Blue', 'Red', 'Yellow',\n",
       "       'Green', 'Yellow', 'Red', 'Red', 'Yellow', 'Green', 'Blue',\n",
       "       'Yellow', 'Red', 'Red', 'Red', 'Red', 'Red', 'Yellow', 'Red',\n",
       "       'Red', 'Yellow', 'Red', 'Red', 'Yellow', 'Red', 'Green', 'Green',\n",
       "       'Blue', 'Blue', 'Blue', 'Red', 'Blue', 'Red', 'Blue', 'Red',\n",
       "       'Yellow', 'Red', 'Red', 'Yellow', 'Red', 'Red', 'Red', 'Yellow',\n",
       "       'Blue', 'Yellow', 'Green', 'Blue', 'Red', 'Red', 'Green', 'Yellow',\n",
       "       'Green', 'Green', 'Blue', 'Blue', 'Green', 'Yellow', 'Yellow',\n",
       "       'Green', 'Red', 'Green', 'Green', 'Yellow', 'Yellow', 'Green',\n",
       "       'Red', 'Blue', 'Yellow', 'Red', 'Red', 'Yellow', 'Red', 'Green',\n",
       "       'Blue', 'Blue', 'Green', 'Blue', 'Yellow', 'Red', 'Red', 'Blue',\n",
       "       'Green', 'Red', 'Red', 'Blue', 'Yellow', 'Yellow', 'Green', 'Red',\n",
       "       'Red', 'Red', 'Yellow', 'Red', 'Blue', 'Green', 'Red', 'Yellow',\n",
       "       'Blue', 'Yellow', 'Red', 'Blue', 'Blue', 'Red', 'Red', 'Red',\n",
       "       'Red', 'Yellow', 'Red', 'Red', 'Green', 'Blue', 'Red', 'Red',\n",
       "       'Yellow', 'Yellow', 'Red', 'Red', 'Green', 'Red', 'Yellow', 'Red',\n",
       "       'Red', 'Red', 'Red', 'Green', 'Blue', 'Blue', 'Blue', 'Blue',\n",
       "       'Blue', 'Green', 'Red', 'Red', 'Red', 'Green', 'Blue', 'Yellow',\n",
       "       'Green', 'Red', 'Blue', 'Red', 'Red', 'Green', 'Blue', 'Green',\n",
       "       'Blue', 'Blue', 'Red', 'Blue', 'Blue', 'Yellow', 'Red', 'Red',\n",
       "       'Red', 'Red', 'Red', 'Red', 'Red', 'Red', 'Red', 'Blue', 'Red',\n",
       "       'Green', 'Yellow', 'Green', 'Red', 'Red', 'Blue', 'Green',\n",
       "       'Yellow', 'Yellow', 'Red', 'Red', 'Blue', 'Blue', 'Red', 'Yellow',\n",
       "       'Blue', 'Red', 'Red', 'Green', 'Blue', 'Red', 'Blue', 'Red',\n",
       "       'Blue', 'Blue', 'Red', 'Yellow', 'Blue', 'Green', 'Red', 'Yellow',\n",
       "       'Yellow', 'Yellow', 'Red', 'Yellow', 'Blue', 'Green', 'Red',\n",
       "       'Blue', 'Red', 'Red', 'Yellow', 'Blue', 'Red', 'Yellow', 'Green',\n",
       "       'Red', 'Red', 'Blue', 'Blue', 'Green', 'Yellow', 'Blue', 'Red',\n",
       "       'Yellow', 'Red', 'Red', 'Blue', 'Red', 'Red', 'Blue', 'Yellow',\n",
       "       'Red', 'Blue', 'Yellow', 'Red', 'Green', 'Red', 'Blue', 'Red',\n",
       "       'Blue', 'Blue', 'Red', 'Yellow', 'Red', 'Blue', 'Red', 'Blue',\n",
       "       'Blue', 'Red', 'Blue', 'Red', 'Blue', 'Blue', 'Red', 'Yellow',\n",
       "       'Green', 'Yellow', 'Blue', 'Green', 'Red', 'Green', 'Yellow',\n",
       "       'Red', 'Red', 'Blue', 'Green', 'Red', 'Blue', 'Red', 'Red', 'Red',\n",
       "       'Blue', 'Red', 'Blue', 'Green', 'Yellow', 'Red', 'Red', 'Yellow',\n",
       "       'Blue', 'Red', 'Red', 'Green', 'Yellow', 'Blue', 'Green', 'Yellow'],\n",
       "      dtype=object)"
      ]
     },
     "execution_count": 14,
     "metadata": {},
     "output_type": "execute_result"
    }
   ],
   "source": [
    "y_train=df['Color']\n",
    "y_train.values"
   ]
  },
  {
   "cell_type": "code",
   "execution_count": 15,
   "id": "bef894f4",
   "metadata": {},
   "outputs": [
    {
     "data": {
      "text/html": [
       "<div>\n",
       "<style scoped>\n",
       "    .dataframe tbody tr th:only-of-type {\n",
       "        vertical-align: middle;\n",
       "    }\n",
       "\n",
       "    .dataframe tbody tr th {\n",
       "        vertical-align: top;\n",
       "    }\n",
       "\n",
       "    .dataframe thead th {\n",
       "        text-align: right;\n",
       "    }\n",
       "</style>\n",
       "<table border=\"1\" class=\"dataframe\">\n",
       "  <thead>\n",
       "    <tr style=\"text-align: right;\">\n",
       "      <th></th>\n",
       "      <th>Room</th>\n",
       "      <th>Partitions</th>\n",
       "      <th>Rows</th>\n",
       "      <th>Columns</th>\n",
       "    </tr>\n",
       "  </thead>\n",
       "  <tbody>\n",
       "    <tr>\n",
       "      <th>0</th>\n",
       "      <td>4</td>\n",
       "      <td>2</td>\n",
       "      <td>1</td>\n",
       "      <td>1</td>\n",
       "    </tr>\n",
       "    <tr>\n",
       "      <th>1</th>\n",
       "      <td>3</td>\n",
       "      <td>2</td>\n",
       "      <td>1</td>\n",
       "      <td>1</td>\n",
       "    </tr>\n",
       "    <tr>\n",
       "      <th>2</th>\n",
       "      <td>2</td>\n",
       "      <td>2</td>\n",
       "      <td>1</td>\n",
       "      <td>1</td>\n",
       "    </tr>\n",
       "    <tr>\n",
       "      <th>3</th>\n",
       "      <td>2</td>\n",
       "      <td>2</td>\n",
       "      <td>2</td>\n",
       "      <td>2</td>\n",
       "    </tr>\n",
       "    <tr>\n",
       "      <th>4</th>\n",
       "      <td>1</td>\n",
       "      <td>2</td>\n",
       "      <td>2</td>\n",
       "      <td>2</td>\n",
       "    </tr>\n",
       "    <tr>\n",
       "      <th>...</th>\n",
       "      <td>...</td>\n",
       "      <td>...</td>\n",
       "      <td>...</td>\n",
       "      <td>...</td>\n",
       "    </tr>\n",
       "    <tr>\n",
       "      <th>95</th>\n",
       "      <td>2</td>\n",
       "      <td>2</td>\n",
       "      <td>2</td>\n",
       "      <td>1</td>\n",
       "    </tr>\n",
       "    <tr>\n",
       "      <th>96</th>\n",
       "      <td>2</td>\n",
       "      <td>2</td>\n",
       "      <td>2</td>\n",
       "      <td>2</td>\n",
       "    </tr>\n",
       "    <tr>\n",
       "      <th>97</th>\n",
       "      <td>3</td>\n",
       "      <td>2</td>\n",
       "      <td>1</td>\n",
       "      <td>1</td>\n",
       "    </tr>\n",
       "    <tr>\n",
       "      <th>98</th>\n",
       "      <td>1</td>\n",
       "      <td>2</td>\n",
       "      <td>2</td>\n",
       "      <td>1</td>\n",
       "    </tr>\n",
       "    <tr>\n",
       "      <th>99</th>\n",
       "      <td>1</td>\n",
       "      <td>2</td>\n",
       "      <td>2</td>\n",
       "      <td>2</td>\n",
       "    </tr>\n",
       "  </tbody>\n",
       "</table>\n",
       "<p>100 rows × 4 columns</p>\n",
       "</div>"
      ],
      "text/plain": [
       "    Room  Partitions  Rows  Columns\n",
       "0      4           2     1        1\n",
       "1      3           2     1        1\n",
       "2      2           2     1        1\n",
       "3      2           2     2        2\n",
       "4      1           2     2        2\n",
       "..   ...         ...   ...      ...\n",
       "95     2           2     2        1\n",
       "96     2           2     2        2\n",
       "97     3           2     1        1\n",
       "98     1           2     2        1\n",
       "99     1           2     2        2\n",
       "\n",
       "[100 rows x 4 columns]"
      ]
     },
     "execution_count": 15,
     "metadata": {},
     "output_type": "execute_result"
    }
   ],
   "source": [
    "x_test=df_1\n",
    "x_test"
   ]
  },
  {
   "cell_type": "code",
   "execution_count": 16,
   "id": "067ec40f",
   "metadata": {},
   "outputs": [
    {
     "data": {
      "text/plain": [
       "2"
      ]
     },
     "execution_count": 16,
     "metadata": {},
     "output_type": "execute_result"
    }
   ],
   "source": [
    "x_test.ndim"
   ]
  },
  {
   "cell_type": "code",
   "execution_count": 17,
   "id": "c09afde2",
   "metadata": {},
   "outputs": [
    {
     "data": {
      "text/plain": [
       "2"
      ]
     },
     "execution_count": 17,
     "metadata": {},
     "output_type": "execute_result"
    }
   ],
   "source": [
    "x_train.ndim"
   ]
  },
  {
   "cell_type": "code",
   "execution_count": 18,
   "id": "50524e66",
   "metadata": {},
   "outputs": [
    {
     "data": {
      "text/plain": [
       "1"
      ]
     },
     "execution_count": 18,
     "metadata": {},
     "output_type": "execute_result"
    }
   ],
   "source": [
    "y_train.ndim"
   ]
  },
  {
   "cell_type": "code",
   "execution_count": 19,
   "id": "a14893c1",
   "metadata": {},
   "outputs": [
    {
     "data": {
      "text/plain": [
       "array(['Yellow', 'Red', 'Yellow', 'Blue', 'Yellow', 'Red', 'Red',\n",
       "       'Yellow', 'Green', 'Red', 'Red', 'Blue', 'Blue', 'Blue', 'Yellow',\n",
       "       'Blue', 'Green', 'Red', 'Yellow', 'Green', 'Blue', 'Red', 'Green',\n",
       "       'Yellow', 'Red', 'Red', 'Red', 'Red', 'Green', 'Green', 'Blue',\n",
       "       'Yellow', 'Red', 'Green', 'Green', 'Red', 'Red', 'Green', 'Green',\n",
       "       'Red', 'Blue', 'Yellow', 'Yellow', 'Blue', 'Blue', 'Green', 'Red',\n",
       "       'Red', 'Red', 'Red', 'Blue', 'Blue', 'Blue', 'Yellow', 'Yellow',\n",
       "       'Yellow', 'Red', 'Yellow', 'Blue', 'Red', 'Green', 'Yellow',\n",
       "       'Yellow', 'Red', 'Red', 'Green', 'Blue', 'Yellow', 'Yellow', 'Red',\n",
       "       'Yellow', 'Green', 'Green', 'Green', 'Yellow', 'Red', 'Blue',\n",
       "       'Red', 'Red', 'Red', 'Green', 'Red', 'Yellow', 'Blue', 'Red',\n",
       "       'Red', 'Blue', 'Red', 'Red', 'Blue', 'Red', 'Red', 'Yellow',\n",
       "       'Yellow', 'Red', 'Red', 'Blue', 'Red', 'Yellow', 'Yellow'],\n",
       "      dtype=object)"
      ]
     },
     "execution_count": 19,
     "metadata": {},
     "output_type": "execute_result"
    }
   ],
   "source": [
    "#Model creation\n",
    "from sklearn.tree import DecisionTreeClassifier\n",
    "model=DecisionTreeClassifier(criterion='entropy') \n",
    "model.fit(x_train,y_train)\n",
    "y_pred = model.predict(x_test)\n",
    "y_pred\n"
   ]
  },
  {
   "cell_type": "code",
   "execution_count": 20,
   "id": "2907403f",
   "metadata": {},
   "outputs": [
    {
     "ename": "IndexError",
     "evalue": "list index out of range",
     "output_type": "error",
     "traceback": [
      "\u001b[31m---------------------------------------------------------------------------\u001b[39m",
      "\u001b[31mIndexError\u001b[39m                                Traceback (most recent call last)",
      "\u001b[36mCell\u001b[39m\u001b[36m \u001b[39m\u001b[32mIn[20]\u001b[39m\u001b[32m, line 4\u001b[39m\n\u001b[32m      2\u001b[39m \u001b[38;5;28;01mimport\u001b[39;00m\u001b[38;5;250m \u001b[39m\u001b[34;01mmatplotlib\u001b[39;00m\u001b[34;01m.\u001b[39;00m\u001b[34;01mpyplot\u001b[39;00m\u001b[38;5;250m \u001b[39m\u001b[38;5;28;01mas\u001b[39;00m\u001b[38;5;250m \u001b[39m\u001b[34;01mplt\u001b[39;00m\n\u001b[32m      3\u001b[39m plt.figure(figsize=(\u001b[32m15\u001b[39m,\u001b[32m15\u001b[39m))\n\u001b[32m----> \u001b[39m\u001b[32m4\u001b[39m \u001b[43mtree\u001b[49m\u001b[43m.\u001b[49m\u001b[43mplot_tree\u001b[49m\u001b[43m(\u001b[49m\u001b[43mmodel\u001b[49m\u001b[43m,\u001b[49m\u001b[43mfeature_names\u001b[49m\u001b[43m=\u001b[49m\u001b[43m[\u001b[49m\u001b[33;43m'\u001b[39;49m\u001b[33;43mRoom\u001b[39;49m\u001b[33;43m'\u001b[39;49m\u001b[43m,\u001b[49m\u001b[43m \u001b[49m\u001b[33;43m'\u001b[39;49m\u001b[33;43mPartitions\u001b[39;49m\u001b[33;43m'\u001b[39;49m\u001b[43m,\u001b[49m\u001b[43m \u001b[49m\u001b[33;43m'\u001b[39;49m\u001b[33;43mRows\u001b[39;49m\u001b[33;43m'\u001b[39;49m\u001b[43m,\u001b[49m\u001b[43m \u001b[49m\u001b[33;43m'\u001b[39;49m\u001b[33;43mColumns\u001b[39;49m\u001b[33;43m'\u001b[39;49m\u001b[43m]\u001b[49m\u001b[43m,\u001b[49m\u001b[43mclass_names\u001b[49m\u001b[43m=\u001b[49m\u001b[43m[\u001b[49m\u001b[33;43m'\u001b[39;49m\u001b[33;43mRed\u001b[39;49m\u001b[33;43m'\u001b[39;49m\u001b[43m,\u001b[49m\u001b[43m \u001b[49m\u001b[33;43m'\u001b[39;49m\u001b[33;43mBlue\u001b[39;49m\u001b[33;43m'\u001b[39;49m\u001b[43m,\u001b[49m\u001b[43m \u001b[49m\u001b[33;43m'\u001b[39;49m\u001b[33;43mYellow\u001b[39;49m\u001b[33;43m'\u001b[39;49m\u001b[43m]\u001b[49m\u001b[43m)\u001b[49m\n",
      "\u001b[36mFile \u001b[39m\u001b[32mc:\\Users\\Vandana Udayakumar\\AppData\\Local\\Programs\\Python\\Python313\\Lib\\site-packages\\sklearn\\utils\\_param_validation.py:216\u001b[39m, in \u001b[36mvalidate_params.<locals>.decorator.<locals>.wrapper\u001b[39m\u001b[34m(*args, **kwargs)\u001b[39m\n\u001b[32m    210\u001b[39m \u001b[38;5;28;01mtry\u001b[39;00m:\n\u001b[32m    211\u001b[39m     \u001b[38;5;28;01mwith\u001b[39;00m config_context(\n\u001b[32m    212\u001b[39m         skip_parameter_validation=(\n\u001b[32m    213\u001b[39m             prefer_skip_nested_validation \u001b[38;5;129;01mor\u001b[39;00m global_skip_validation\n\u001b[32m    214\u001b[39m         )\n\u001b[32m    215\u001b[39m     ):\n\u001b[32m--> \u001b[39m\u001b[32m216\u001b[39m         \u001b[38;5;28;01mreturn\u001b[39;00m \u001b[43mfunc\u001b[49m\u001b[43m(\u001b[49m\u001b[43m*\u001b[49m\u001b[43margs\u001b[49m\u001b[43m,\u001b[49m\u001b[43m \u001b[49m\u001b[43m*\u001b[49m\u001b[43m*\u001b[49m\u001b[43mkwargs\u001b[49m\u001b[43m)\u001b[49m\n\u001b[32m    217\u001b[39m \u001b[38;5;28;01mexcept\u001b[39;00m InvalidParameterError \u001b[38;5;28;01mas\u001b[39;00m e:\n\u001b[32m    218\u001b[39m     \u001b[38;5;66;03m# When the function is just a wrapper around an estimator, we allow\u001b[39;00m\n\u001b[32m    219\u001b[39m     \u001b[38;5;66;03m# the function to delegate validation to the estimator, but we replace\u001b[39;00m\n\u001b[32m    220\u001b[39m     \u001b[38;5;66;03m# the name of the estimator by the name of the function in the error\u001b[39;00m\n\u001b[32m    221\u001b[39m     \u001b[38;5;66;03m# message to avoid confusion.\u001b[39;00m\n\u001b[32m    222\u001b[39m     msg = re.sub(\n\u001b[32m    223\u001b[39m         \u001b[33mr\u001b[39m\u001b[33m\"\u001b[39m\u001b[33mparameter of \u001b[39m\u001b[33m\\\u001b[39m\u001b[33mw+ must be\u001b[39m\u001b[33m\"\u001b[39m,\n\u001b[32m    224\u001b[39m         \u001b[33mf\u001b[39m\u001b[33m\"\u001b[39m\u001b[33mparameter of \u001b[39m\u001b[38;5;132;01m{\u001b[39;00mfunc.\u001b[34m__qualname__\u001b[39m\u001b[38;5;132;01m}\u001b[39;00m\u001b[33m must be\u001b[39m\u001b[33m\"\u001b[39m,\n\u001b[32m    225\u001b[39m         \u001b[38;5;28mstr\u001b[39m(e),\n\u001b[32m    226\u001b[39m     )\n",
      "\u001b[36mFile \u001b[39m\u001b[32mc:\\Users\\Vandana Udayakumar\\AppData\\Local\\Programs\\Python\\Python313\\Lib\\site-packages\\sklearn\\tree\\_export.py:205\u001b[39m, in \u001b[36mplot_tree\u001b[39m\u001b[34m(decision_tree, max_depth, feature_names, class_names, label, filled, impurity, node_ids, proportion, rounded, precision, ax, fontsize)\u001b[39m\n\u001b[32m    190\u001b[39m check_is_fitted(decision_tree)\n\u001b[32m    192\u001b[39m exporter = _MPLTreeExporter(\n\u001b[32m    193\u001b[39m     max_depth=max_depth,\n\u001b[32m    194\u001b[39m     feature_names=feature_names,\n\u001b[32m   (...)\u001b[39m\u001b[32m    203\u001b[39m     fontsize=fontsize,\n\u001b[32m    204\u001b[39m )\n\u001b[32m--> \u001b[39m\u001b[32m205\u001b[39m \u001b[38;5;28;01mreturn\u001b[39;00m \u001b[43mexporter\u001b[49m\u001b[43m.\u001b[49m\u001b[43mexport\u001b[49m\u001b[43m(\u001b[49m\u001b[43mdecision_tree\u001b[49m\u001b[43m,\u001b[49m\u001b[43m \u001b[49m\u001b[43max\u001b[49m\u001b[43m=\u001b[49m\u001b[43max\u001b[49m\u001b[43m)\u001b[49m\n",
      "\u001b[36mFile \u001b[39m\u001b[32mc:\\Users\\Vandana Udayakumar\\AppData\\Local\\Programs\\Python\\Python313\\Lib\\site-packages\\sklearn\\tree\\_export.py:652\u001b[39m, in \u001b[36m_MPLTreeExporter.export\u001b[39m\u001b[34m(self, decision_tree, ax)\u001b[39m\n\u001b[32m    650\u001b[39m ax.clear()\n\u001b[32m    651\u001b[39m ax.set_axis_off()\n\u001b[32m--> \u001b[39m\u001b[32m652\u001b[39m my_tree = \u001b[38;5;28;43mself\u001b[39;49m\u001b[43m.\u001b[49m\u001b[43m_make_tree\u001b[49m\u001b[43m(\u001b[49m\u001b[32;43m0\u001b[39;49m\u001b[43m,\u001b[49m\u001b[43m \u001b[49m\u001b[43mdecision_tree\u001b[49m\u001b[43m.\u001b[49m\u001b[43mtree_\u001b[49m\u001b[43m,\u001b[49m\u001b[43m \u001b[49m\u001b[43mdecision_tree\u001b[49m\u001b[43m.\u001b[49m\u001b[43mcriterion\u001b[49m\u001b[43m)\u001b[49m\n\u001b[32m    653\u001b[39m draw_tree = buchheim(my_tree)\n\u001b[32m    655\u001b[39m \u001b[38;5;66;03m# important to make sure we're still\u001b[39;00m\n\u001b[32m    656\u001b[39m \u001b[38;5;66;03m# inside the axis after drawing the box\u001b[39;00m\n\u001b[32m    657\u001b[39m \u001b[38;5;66;03m# this makes sense because the width of a box\u001b[39;00m\n\u001b[32m    658\u001b[39m \u001b[38;5;66;03m# is about the same as the distance between boxes\u001b[39;00m\n",
      "\u001b[36mFile \u001b[39m\u001b[32mc:\\Users\\Vandana Udayakumar\\AppData\\Local\\Programs\\Python\\Python313\\Lib\\site-packages\\sklearn\\tree\\_export.py:633\u001b[39m, in \u001b[36m_MPLTreeExporter._make_tree\u001b[39m\u001b[34m(self, node_id, et, criterion, depth)\u001b[39m\n\u001b[32m    628\u001b[39m name = \u001b[38;5;28mself\u001b[39m.node_to_str(et, node_id, criterion=criterion)\n\u001b[32m    629\u001b[39m \u001b[38;5;28;01mif\u001b[39;00m et.children_left[node_id] != _tree.TREE_LEAF \u001b[38;5;129;01mand\u001b[39;00m (\n\u001b[32m    630\u001b[39m     \u001b[38;5;28mself\u001b[39m.max_depth \u001b[38;5;129;01mis\u001b[39;00m \u001b[38;5;28;01mNone\u001b[39;00m \u001b[38;5;129;01mor\u001b[39;00m depth <= \u001b[38;5;28mself\u001b[39m.max_depth\n\u001b[32m    631\u001b[39m ):\n\u001b[32m    632\u001b[39m     children = [\n\u001b[32m--> \u001b[39m\u001b[32m633\u001b[39m         \u001b[38;5;28;43mself\u001b[39;49m\u001b[43m.\u001b[49m\u001b[43m_make_tree\u001b[49m\u001b[43m(\u001b[49m\n\u001b[32m    634\u001b[39m \u001b[43m            \u001b[49m\u001b[43met\u001b[49m\u001b[43m.\u001b[49m\u001b[43mchildren_left\u001b[49m\u001b[43m[\u001b[49m\u001b[43mnode_id\u001b[49m\u001b[43m]\u001b[49m\u001b[43m,\u001b[49m\u001b[43m \u001b[49m\u001b[43met\u001b[49m\u001b[43m,\u001b[49m\u001b[43m \u001b[49m\u001b[43mcriterion\u001b[49m\u001b[43m,\u001b[49m\u001b[43m \u001b[49m\u001b[43mdepth\u001b[49m\u001b[43m=\u001b[49m\u001b[43mdepth\u001b[49m\u001b[43m \u001b[49m\u001b[43m+\u001b[49m\u001b[43m \u001b[49m\u001b[32;43m1\u001b[39;49m\n\u001b[32m    635\u001b[39m \u001b[43m        \u001b[49m\u001b[43m)\u001b[49m,\n\u001b[32m    636\u001b[39m         \u001b[38;5;28mself\u001b[39m._make_tree(\n\u001b[32m    637\u001b[39m             et.children_right[node_id], et, criterion, depth=depth + \u001b[32m1\u001b[39m\n\u001b[32m    638\u001b[39m         ),\n\u001b[32m    639\u001b[39m     ]\n\u001b[32m    640\u001b[39m \u001b[38;5;28;01melse\u001b[39;00m:\n\u001b[32m    641\u001b[39m     \u001b[38;5;28;01mreturn\u001b[39;00m Tree(name, node_id)\n",
      "\u001b[36mFile \u001b[39m\u001b[32mc:\\Users\\Vandana Udayakumar\\AppData\\Local\\Programs\\Python\\Python313\\Lib\\site-packages\\sklearn\\tree\\_export.py:633\u001b[39m, in \u001b[36m_MPLTreeExporter._make_tree\u001b[39m\u001b[34m(self, node_id, et, criterion, depth)\u001b[39m\n\u001b[32m    628\u001b[39m name = \u001b[38;5;28mself\u001b[39m.node_to_str(et, node_id, criterion=criterion)\n\u001b[32m    629\u001b[39m \u001b[38;5;28;01mif\u001b[39;00m et.children_left[node_id] != _tree.TREE_LEAF \u001b[38;5;129;01mand\u001b[39;00m (\n\u001b[32m    630\u001b[39m     \u001b[38;5;28mself\u001b[39m.max_depth \u001b[38;5;129;01mis\u001b[39;00m \u001b[38;5;28;01mNone\u001b[39;00m \u001b[38;5;129;01mor\u001b[39;00m depth <= \u001b[38;5;28mself\u001b[39m.max_depth\n\u001b[32m    631\u001b[39m ):\n\u001b[32m    632\u001b[39m     children = [\n\u001b[32m--> \u001b[39m\u001b[32m633\u001b[39m         \u001b[38;5;28;43mself\u001b[39;49m\u001b[43m.\u001b[49m\u001b[43m_make_tree\u001b[49m\u001b[43m(\u001b[49m\n\u001b[32m    634\u001b[39m \u001b[43m            \u001b[49m\u001b[43met\u001b[49m\u001b[43m.\u001b[49m\u001b[43mchildren_left\u001b[49m\u001b[43m[\u001b[49m\u001b[43mnode_id\u001b[49m\u001b[43m]\u001b[49m\u001b[43m,\u001b[49m\u001b[43m \u001b[49m\u001b[43met\u001b[49m\u001b[43m,\u001b[49m\u001b[43m \u001b[49m\u001b[43mcriterion\u001b[49m\u001b[43m,\u001b[49m\u001b[43m \u001b[49m\u001b[43mdepth\u001b[49m\u001b[43m=\u001b[49m\u001b[43mdepth\u001b[49m\u001b[43m \u001b[49m\u001b[43m+\u001b[49m\u001b[43m \u001b[49m\u001b[32;43m1\u001b[39;49m\n\u001b[32m    635\u001b[39m \u001b[43m        \u001b[49m\u001b[43m)\u001b[49m,\n\u001b[32m    636\u001b[39m         \u001b[38;5;28mself\u001b[39m._make_tree(\n\u001b[32m    637\u001b[39m             et.children_right[node_id], et, criterion, depth=depth + \u001b[32m1\u001b[39m\n\u001b[32m    638\u001b[39m         ),\n\u001b[32m    639\u001b[39m     ]\n\u001b[32m    640\u001b[39m \u001b[38;5;28;01melse\u001b[39;00m:\n\u001b[32m    641\u001b[39m     \u001b[38;5;28;01mreturn\u001b[39;00m Tree(name, node_id)\n",
      "\u001b[36mFile \u001b[39m\u001b[32mc:\\Users\\Vandana Udayakumar\\AppData\\Local\\Programs\\Python\\Python313\\Lib\\site-packages\\sklearn\\tree\\_export.py:628\u001b[39m, in \u001b[36m_MPLTreeExporter._make_tree\u001b[39m\u001b[34m(self, node_id, et, criterion, depth)\u001b[39m\n\u001b[32m    625\u001b[39m \u001b[38;5;28;01mdef\u001b[39;00m\u001b[38;5;250m \u001b[39m\u001b[34m_make_tree\u001b[39m(\u001b[38;5;28mself\u001b[39m, node_id, et, criterion, depth=\u001b[32m0\u001b[39m):\n\u001b[32m    626\u001b[39m     \u001b[38;5;66;03m# traverses _tree.Tree recursively, builds intermediate\u001b[39;00m\n\u001b[32m    627\u001b[39m     \u001b[38;5;66;03m# \"_reingold_tilford.Tree\" object\u001b[39;00m\n\u001b[32m--> \u001b[39m\u001b[32m628\u001b[39m     name = \u001b[38;5;28;43mself\u001b[39;49m\u001b[43m.\u001b[49m\u001b[43mnode_to_str\u001b[49m\u001b[43m(\u001b[49m\u001b[43met\u001b[49m\u001b[43m,\u001b[49m\u001b[43m \u001b[49m\u001b[43mnode_id\u001b[49m\u001b[43m,\u001b[49m\u001b[43m \u001b[49m\u001b[43mcriterion\u001b[49m\u001b[43m=\u001b[49m\u001b[43mcriterion\u001b[49m\u001b[43m)\u001b[49m\n\u001b[32m    629\u001b[39m     \u001b[38;5;28;01mif\u001b[39;00m et.children_left[node_id] != _tree.TREE_LEAF \u001b[38;5;129;01mand\u001b[39;00m (\n\u001b[32m    630\u001b[39m         \u001b[38;5;28mself\u001b[39m.max_depth \u001b[38;5;129;01mis\u001b[39;00m \u001b[38;5;28;01mNone\u001b[39;00m \u001b[38;5;129;01mor\u001b[39;00m depth <= \u001b[38;5;28mself\u001b[39m.max_depth\n\u001b[32m    631\u001b[39m     ):\n\u001b[32m    632\u001b[39m         children = [\n\u001b[32m    633\u001b[39m             \u001b[38;5;28mself\u001b[39m._make_tree(\n\u001b[32m    634\u001b[39m                 et.children_left[node_id], et, criterion, depth=depth + \u001b[32m1\u001b[39m\n\u001b[32m   (...)\u001b[39m\u001b[32m    638\u001b[39m             ),\n\u001b[32m    639\u001b[39m         ]\n",
      "\u001b[36mFile \u001b[39m\u001b[32mc:\\Users\\Vandana Udayakumar\\AppData\\Local\\Programs\\Python\\Python313\\Lib\\site-packages\\sklearn\\tree\\_export.py:386\u001b[39m, in \u001b[36m_BaseTreeExporter.node_to_str\u001b[39m\u001b[34m(self, tree, node_id, criterion)\u001b[39m\n\u001b[32m    384\u001b[39m     node_string += \u001b[33m\"\u001b[39m\u001b[33mclass = \u001b[39m\u001b[33m\"\u001b[39m\n\u001b[32m    385\u001b[39m \u001b[38;5;28;01mif\u001b[39;00m \u001b[38;5;28mself\u001b[39m.class_names \u001b[38;5;129;01mis\u001b[39;00m \u001b[38;5;129;01mnot\u001b[39;00m \u001b[38;5;28;01mTrue\u001b[39;00m:\n\u001b[32m--> \u001b[39m\u001b[32m386\u001b[39m     class_name = \u001b[38;5;28;43mself\u001b[39;49m\u001b[43m.\u001b[49m\u001b[43mclass_names\u001b[49m\u001b[43m[\u001b[49m\u001b[43mnp\u001b[49m\u001b[43m.\u001b[49m\u001b[43margmax\u001b[49m\u001b[43m(\u001b[49m\u001b[43mvalue\u001b[49m\u001b[43m)\u001b[49m\u001b[43m]\u001b[49m\n\u001b[32m    387\u001b[39m     class_name = \u001b[38;5;28mself\u001b[39m.str_escape(class_name)\n\u001b[32m    388\u001b[39m \u001b[38;5;28;01melse\u001b[39;00m:\n",
      "\u001b[31mIndexError\u001b[39m: list index out of range"
     ]
    },
    {
     "data": {
      "image/png": "[encoded data removed]",
      "text/plain": [
       "<Figure size 1500x1500 with 1 Axes>"
      ]
     },
     "metadata": {},
     "output_type": "display_data"
    }
   ],
   "source": [
    "from sklearn import tree\n",
    "import matplotlib.pyplot as plt\n",
    "plt.figure(figsize=(15,15))\n",
    "tree.plot_tree(model,feature_names=['Room', 'Partitions', 'Rows', 'Columns'],class_names=['Red', 'Blue', 'Yellow'])"
   ]
  }
 ],
 "metadata": {
  "kernelspec": {
   "display_name": "Python 3",
   "language": "python",
   "name": "python3"
  },
  "language_info": {
   "codemirror_mode": {
    "name": "ipython",
    "version": 3
   },
   "file_extension": ".py",
   "mimetype": "text/x-python",
   "name": "python",
   "nbconvert_exporter": "python",
   "pygments_lexer": "ipython3",
   "version": "3.13.1"
  }
 },
 "nbformat": 4,
 "nbformat_minor": 5
}
