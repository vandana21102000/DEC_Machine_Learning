{
 "cells": [
  {
   "cell_type": "code",
   "execution_count": 17,
   "metadata": {},
   "outputs": [],
   "source": [
    "#Each country count\n",
    "import numpy as np\n",
    "import pandas as pd\n",
    "import matplotlib.pyplot as plt"
   ]
  },
  {
   "cell_type": "code",
   "execution_count": 18,
   "metadata": {},
   "outputs": [
    {
     "data": {
      "text/html": [
       "<div>\n",
       "<style scoped>\n",
       "    .dataframe tbody tr th:only-of-type {\n",
       "        vertical-align: middle;\n",
       "    }\n",
       "\n",
       "    .dataframe tbody tr th {\n",
       "        vertical-align: top;\n",
       "    }\n",
       "\n",
       "    .dataframe thead th {\n",
       "        text-align: right;\n",
       "    }\n",
       "</style>\n",
       "<table border=\"1\" class=\"dataframe\">\n",
       "  <thead>\n",
       "    <tr style=\"text-align: right;\">\n",
       "      <th></th>\n",
       "      <th>id</th>\n",
       "      <th>fname</th>\n",
       "      <th>lname</th>\n",
       "      <th>age</th>\n",
       "      <th>prof</th>\n",
       "      <th>loc</th>\n",
       "      <th>salary</th>\n",
       "    </tr>\n",
       "  </thead>\n",
       "  <tbody>\n",
       "    <tr>\n",
       "      <th>0</th>\n",
       "      <td>4000001</td>\n",
       "      <td>Kristina</td>\n",
       "      <td>Chung</td>\n",
       "      <td>55</td>\n",
       "      <td>Pilot</td>\n",
       "      <td>india</td>\n",
       "      <td>45000</td>\n",
       "    </tr>\n",
       "    <tr>\n",
       "      <th>1</th>\n",
       "      <td>4000002</td>\n",
       "      <td>Paige</td>\n",
       "      <td>Chen</td>\n",
       "      <td>74</td>\n",
       "      <td>Teacher</td>\n",
       "      <td>uk</td>\n",
       "      <td>45987</td>\n",
       "    </tr>\n",
       "    <tr>\n",
       "      <th>2</th>\n",
       "      <td>4000003</td>\n",
       "      <td>Sherri</td>\n",
       "      <td>Melton</td>\n",
       "      <td>34</td>\n",
       "      <td>Firefighter</td>\n",
       "      <td>us</td>\n",
       "      <td>78956</td>\n",
       "    </tr>\n",
       "    <tr>\n",
       "      <th>3</th>\n",
       "      <td>4000004</td>\n",
       "      <td>Gretchen</td>\n",
       "      <td>Hill</td>\n",
       "      <td>66</td>\n",
       "      <td>Computer hardware engineer</td>\n",
       "      <td>china</td>\n",
       "      <td>98570</td>\n",
       "    </tr>\n",
       "    <tr>\n",
       "      <th>4</th>\n",
       "      <td>4000005</td>\n",
       "      <td>Karen</td>\n",
       "      <td>Puckett</td>\n",
       "      <td>74</td>\n",
       "      <td>Lawyer</td>\n",
       "      <td>africa</td>\n",
       "      <td>45680</td>\n",
       "    </tr>\n",
       "    <tr>\n",
       "      <th>...</th>\n",
       "      <td>...</td>\n",
       "      <td>...</td>\n",
       "      <td>...</td>\n",
       "      <td>...</td>\n",
       "      <td>...</td>\n",
       "      <td>...</td>\n",
       "      <td>...</td>\n",
       "    </tr>\n",
       "    <tr>\n",
       "      <th>68</th>\n",
       "      <td>4000069</td>\n",
       "      <td>Melanie</td>\n",
       "      <td>Hewitt</td>\n",
       "      <td>47</td>\n",
       "      <td>Real estate agent</td>\n",
       "      <td>us</td>\n",
       "      <td>456987</td>\n",
       "    </tr>\n",
       "    <tr>\n",
       "      <th>69</th>\n",
       "      <td>4000070</td>\n",
       "      <td>Marianne</td>\n",
       "      <td>Branch</td>\n",
       "      <td>53</td>\n",
       "      <td>Judge</td>\n",
       "      <td>us</td>\n",
       "      <td>258974</td>\n",
       "    </tr>\n",
       "    <tr>\n",
       "      <th>70</th>\n",
       "      <td>4000071</td>\n",
       "      <td>Natalie</td>\n",
       "      <td>Walton</td>\n",
       "      <td>24</td>\n",
       "      <td>Recreation and fitness worker</td>\n",
       "      <td>us</td>\n",
       "      <td>7896254</td>\n",
       "    </tr>\n",
       "    <tr>\n",
       "      <th>71</th>\n",
       "      <td>4000072</td>\n",
       "      <td>Caroline</td>\n",
       "      <td>O'Brien</td>\n",
       "      <td>44</td>\n",
       "      <td>Computer support specialist</td>\n",
       "      <td>us</td>\n",
       "      <td>478921</td>\n",
       "    </tr>\n",
       "    <tr>\n",
       "      <th>72</th>\n",
       "      <td>4000073</td>\n",
       "      <td>Arlene</td>\n",
       "      <td>Case</td>\n",
       "      <td>62</td>\n",
       "      <td>Musician</td>\n",
       "      <td>us</td>\n",
       "      <td>159879</td>\n",
       "    </tr>\n",
       "  </tbody>\n",
       "</table>\n",
       "<p>73 rows × 7 columns</p>\n",
       "</div>"
      ],
      "text/plain": [
       "         id     fname    lname  age                           prof     loc  \\\n",
       "0   4000001  Kristina    Chung   55                          Pilot   india   \n",
       "1   4000002     Paige     Chen   74                        Teacher      uk   \n",
       "2   4000003    Sherri   Melton   34                    Firefighter      us   \n",
       "3   4000004  Gretchen     Hill   66     Computer hardware engineer   china   \n",
       "4   4000005     Karen  Puckett   74                         Lawyer  africa   \n",
       "..      ...       ...      ...  ...                            ...     ...   \n",
       "68  4000069   Melanie   Hewitt   47              Real estate agent      us   \n",
       "69  4000070  Marianne   Branch   53                          Judge      us   \n",
       "70  4000071   Natalie   Walton   24  Recreation and fitness worker      us   \n",
       "71  4000072  Caroline  O'Brien   44    Computer support specialist      us   \n",
       "72  4000073    Arlene     Case   62                       Musician      us   \n",
       "\n",
       "     salary  \n",
       "0     45000  \n",
       "1     45987  \n",
       "2     78956  \n",
       "3     98570  \n",
       "4     45680  \n",
       "..      ...  \n",
       "68   456987  \n",
       "69   258974  \n",
       "70  7896254  \n",
       "71   478921  \n",
       "72   159879  \n",
       "\n",
       "[73 rows x 7 columns]"
      ]
     },
     "execution_count": 18,
     "metadata": {},
     "output_type": "execute_result"
    }
   ],
   "source": [
    "df=pd.read_csv('customer5.csv')\n",
    "df"
   ]
  },
  {
   "cell_type": "code",
   "execution_count": 19,
   "metadata": {},
   "outputs": [
    {
     "data": {
      "text/plain": [
       "id        0\n",
       "fname     0\n",
       "lname     0\n",
       "age       0\n",
       "prof      0\n",
       "loc       0\n",
       "salary    0\n",
       "dtype: int64"
      ]
     },
     "execution_count": 19,
     "metadata": {},
     "output_type": "execute_result"
    }
   ],
   "source": [
    "df.isna().sum()"
   ]
  },
  {
   "cell_type": "code",
   "execution_count": 20,
   "metadata": {},
   "outputs": [
    {
     "data": {
      "text/plain": [
       "loc\n",
       "uk           37\n",
       "india        21\n",
       "us           11\n",
       "china         1\n",
       "africa        1\n",
       "australia     1\n",
       "ireland       1\n",
       "Name: count, dtype: int64"
      ]
     },
     "execution_count": 20,
     "metadata": {},
     "output_type": "execute_result"
    }
   ],
   "source": [
    "df['loc'].value_counts()"
   ]
  },
  {
   "cell_type": "code",
   "execution_count": null,
   "metadata": {},
   "outputs": [
    {
     "name": "stderr",
     "output_type": "stream",
     "text": [
      "C:\\Users\\Vandana Udayakumar\\AppData\\Local\\Temp\\ipykernel_22648\\2373463588.py:8: UserWarning: No artists with labels found to put in legend.  Note that artists whose label start with an underscore are ignored when legend() is called with no argument.\n",
      "  plt.legend(loc='lower right')\n"
     ]
    },
    {
     "data": {
      "text/plain": [
       "<matplotlib.legend.Legend at 0x1f1ebe05310>"
      ]
     },
     "execution_count": 21,
     "metadata": {},
     "output_type": "execute_result"
    },
    {
     "data": {
      "image/png": "[encoded data removed]",
      "text/plain": [
       "<Figure size 640x480 with 1 Axes>"
      ]
     },
     "metadata": {},
     "output_type": "display_data"
    }
   ],
   "source": [
    "location=['uk','india','us','china','africa','australia','ireland']\n",
    "count=df['loc'].value_counts()\n",
    "\n",
    "plt.bar(location,count,color='g')\n",
    "plt.xlabel(\"Location\")\n",
    "plt.ylabel(\"Count\")\n",
    "plt.title('Garap_1')"
   ]
  }
 ],
 "metadata": {
  "kernelspec": {
   "display_name": "Python 3",
   "language": "python",
   "name": "python3"
  },
  "language_info": {
   "codemirror_mode": {
    "name": "ipython",
    "version": 3
   },
   "file_extension": ".py",
   "mimetype": "text/x-python",
   "name": "python",
   "nbconvert_exporter": "python",
   "pygments_lexer": "ipython3",
   "version": "3.13.1"
  }
 },
 "nbformat": 4,
 "nbformat_minor": 2
}
